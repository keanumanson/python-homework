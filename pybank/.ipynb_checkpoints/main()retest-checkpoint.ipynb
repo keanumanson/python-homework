{
 "cells": [
  {
   "cell_type": "code",
   "execution_count": 29,
   "id": "692fcabb-1890-4981-ae55-1d46997b3a32",
   "metadata": {},
   "outputs": [],
   "source": [
    "#### Analysis and Calculations (35 points)\n",
    "\n",
    "##### To receive all points, your code must:\n",
    "\n",
    "#* Include a calculation of the total number of months in the dataset. (2 points)\n",
    "#* Calculate the net total amount of Profit/Losses over the entire period. (3 points)\n",
    "#* Calculate the average of the changes in Profit/Losses over the entire period. (5 points)\n",
    "#* Calculate the greatest increase in Profits over the entire period (Date and Amount). (10 points)\n",
    "#* Calculate the greatest decrease in Losses over the entire period (Date and Amount). (10 points)\n",
    "#* Print the analysis and export the analysis to a text file that contains the final results. (5 points)\n",
    "\n",
    "#### Coding Conventions and Formatting (10 points)\n",
    "\n",
    "##### To receive all points, your code must:\n",
    "\n",
    "#* Place imports at the beginning of the file, just after any module comments and docstrings and before module globals and constants. (3 points)\n",
    "#* Name functions and variables with lowercase characters and with words separated by underscores. (2 points)\n",
    "#* Follow Don't Repeat Yourself (DRY) principles by creating maintainable and reusable code. (3 points)\n",
    "#* Use concise logic and creative engineering where possible. (2 points)\n",
    "\n",
    "\n",
    "#########^^^^^Task (copy and paste)^^^^^#########"
   ]
  },
  {
   "cell_type": "code",
   "execution_count": 30,
   "id": "f95558e3-0f0f-4d14-9c18-491b498b5315",
   "metadata": {},
   "outputs": [],
   "source": [
    "months = 0  \n",
    "profit = 0 \n",
    "loss = 0 \n",
    "ave_pnl = 0\n",
    "increase_profits = 0 \n",
    "decrease_profits = 0 \n",
    "#sort through task and created all variables possibly needed"
   ]
  },
  {
   "cell_type": "code",
   "execution_count": 78,
   "id": "ce701c97-7c07-48aa-a297-dcbc9db406a7",
   "metadata": {},
   "outputs": [
    {
     "name": "stdout",
     "output_type": "stream",
     "text": [
      "<class '_io.TextIOWrapper'>\n",
      "<class '_io.TextIOWrapper'>\n",
      "Date,Profit/Losses\n",
      " <---- HEADER\n"
     ]
    },
    {
     "ename": "NameError",
     "evalue": "name 'budget_data' is not defined",
     "output_type": "error",
     "traceback": [
      "\u001b[0;31m---------------------------------------------------------------------------\u001b[0m",
      "\u001b[0;31mNameError\u001b[0m                                 Traceback (most recent call last)",
      "\u001b[0;32m/var/folders/m7/rynp7npd69d8gtn9dqc_ry_c0000gn/T/ipykernel_38009/319548050.py\u001b[0m in \u001b[0;36m<module>\u001b[0;34m\u001b[0m\n\u001b[1;32m     21\u001b[0m         \u001b[0mdate\u001b[0m \u001b[0;34m=\u001b[0m \u001b[0;36m0\u001b[0m\u001b[0;34m\u001b[0m\u001b[0;34m\u001b[0m\u001b[0m\n\u001b[1;32m     22\u001b[0m         \u001b[0mpnl\u001b[0m \u001b[0;34m=\u001b[0m \u001b[0;36m1\u001b[0m\u001b[0;34m\u001b[0m\u001b[0;34m\u001b[0m\u001b[0m\n\u001b[0;32m---> 23\u001b[0;31m         \u001b[0mbudget_data\u001b[0m\u001b[0;34m[\u001b[0m\u001b[0mrow\u001b[0m\u001b[0;34m[\u001b[0m\u001b[0mdate\u001b[0m\u001b[0;34m]\u001b[0m\u001b[0;34m]\u001b[0m \u001b[0;34m=\u001b[0m \u001b[0mint\u001b[0m\u001b[0;34m(\u001b[0m\u001b[0mrow\u001b[0m\u001b[0;34m[\u001b[0m\u001b[0mpnl\u001b[0m\u001b[0;34m]\u001b[0m\u001b[0;34m)\u001b[0m\u001b[0;34m\u001b[0m\u001b[0;34m\u001b[0m\u001b[0m\n\u001b[0m",
      "\u001b[0;31mNameError\u001b[0m: name 'budget_data' is not defined"
     ]
    }
   ],
   "source": [
    "from pathlib import Path \n",
    "import csv\n",
    "#importing pathlib and csv file\n",
    "csvpath = Path(\"budget_data.csv\") #csv file location/path = in current directory\n",
    "\n",
    "line_num = 0 \n",
    "                \n",
    "with open(csvpath, 'r') as csvfile:\n",
    "    print(type(csvfile)) #print data type\n",
    "    csvreader = csv.reader(csvfile, delimiter=',') #delimiter seperates the values with ','\n",
    "    print(type(csvfile))\n",
    "                \n",
    "#imported and confirmed file (csv), \n",
    "#stored file in the same file as the jupyter notebook code, for easier location etc\n",
    "    header = next(csvfile)\n",
    "    line_num += 1 #adding 1 unit for every line\n",
    "    print(f'{header} <---- HEADER') \n",
    "    \n",
    "    \n",
    "    for row in csvreader:\n",
    "        date = 0 \n",
    "        pnl = 1\n",
    "        budget_data = {}\n",
    "        budget_data[row[date]] = int(row[pnl])"
   ]
  },
  {
   "cell_type": "code",
   "execution_count": 76,
   "id": "fcfe252e-aaab-424f-8135-4521a977ae4b",
   "metadata": {},
   "outputs": [],
   "source": [
    "#for row in csvreader:\n",
    "    #str.count()\n",
    "    \n",
    "#<class '_io.TextIOWrapper'>\n",
    "#<class '_io.TextIOWrapper'>\n",
    "#Date,Profit/Losses\n",
    "# <---- HEADER"
   ]
  },
  {
   "cell_type": "code",
   "execution_count": null,
   "id": "9460e5e7-6e7b-448c-9a0e-c6636090689f",
   "metadata": {},
   "outputs": [],
   "source": []
  },
  {
   "cell_type": "code",
   "execution_count": null,
   "id": "6022301e-c356-446d-9906-2efedcf54793",
   "metadata": {},
   "outputs": [],
   "source": []
  },
  {
   "cell_type": "code",
   "execution_count": null,
   "id": "9ff4573d-dab5-4908-948c-a597e4a3b3f4",
   "metadata": {},
   "outputs": [],
   "source": []
  },
  {
   "cell_type": "code",
   "execution_count": null,
   "id": "4c96fd0e-f334-4f0a-a510-56f64dbd8647",
   "metadata": {},
   "outputs": [],
   "source": []
  }
 ],
 "metadata": {
  "kernelspec": {
   "display_name": "Python 3 (ipykernel)",
   "language": "python",
   "name": "python3"
  },
  "language_info": {
   "codemirror_mode": {
    "name": "ipython",
    "version": 3
   },
   "file_extension": ".py",
   "mimetype": "text/x-python",
   "name": "python",
   "nbconvert_exporter": "python",
   "pygments_lexer": "ipython3",
   "version": "3.7.11"
  }
 },
 "nbformat": 4,
 "nbformat_minor": 5
}
