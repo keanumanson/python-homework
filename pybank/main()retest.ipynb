{
 "cells": [
  {
   "cell_type": "code",
   "execution_count": 29,
   "id": "692fcabb-1890-4981-ae55-1d46997b3a32",
   "metadata": {},
   "outputs": [],
   "source": [
    "#### Analysis and Calculations (35 points)\n",
    "\n",
    "##### To receive all points, your code must:\n",
    "#* Include a calculation of the total number of months in the dataset. (2 points)\n",
    "#* Calculate the net total amount of Profit/Losses over the entire period. (3 points)\n",
    "#* Calculate the average of the changes in Profit/Losses over the entire period. (5 points)\n",
    "#* Calculate the greatest increase in Profits over the entire period (Date and Amount). (10 points)\n",
    "#* Calculate the greatest decrease in Losses over the entire period (Date and Amount). (10 points)\n",
    "#* Print the analysis and export the analysis to a text file that contains the final results. (5 points)\n",
    "\n",
    "#### Coding Conventions and Formatting (10 points)\n",
    "\n",
    "##### To receive all points, your code must:\n",
    "\n",
    "#* Place imports at the beginning of the file, just after any module comments and docstrings and before module globals and constants. (3 points)\n",
    "#* Name functions and variables with lowercase characters and with words separated by underscores. (2 points)\n",
    "#* Follow Don't Repeat Yourself (DRY) principles by creating maintainable and reusable code. (3 points)\n",
    "#* Use concise logic and creative engineering where possible. (2 points) "
   ]
  },
  {
   "cell_type": "code",
   "execution_count": 30,
   "id": "f95558e3-0f0f-4d14-9c18-491b498b5315",
   "metadata": {},
   "outputs": [],
   "source": [
    "months = 0  \n",
    "ave_pnl = 0\n",
    "#some pre determined variables"
   ]
  },
  {
   "cell_type": "code",
   "execution_count": 108,
   "id": "ce701c97-7c07-48aa-a297-dcbc9db406a7",
   "metadata": {},
   "outputs": [
    {
     "name": "stdout",
     "output_type": "stream",
     "text": [
      "Date,Profit/Losses\n",
      " <---- HEADER\n"
     ]
    }
   ],
   "source": [
    "from pathlib import Path \n",
    "import csv\n",
    "#importing pathlib and csv file\n",
    "csvpath = Path(\"budget_data.csv\") #csv file location/path = in current directory\n",
    "\n",
    "budget_data = {}\n",
    "\n",
    "with open(csvpath, 'r') as csvfile:\n",
    "    csvreader = csv.reader(csvfile, delimiter=',') #delimiter seperates the values with ','\n",
    "\n",
    "#imported and confirmed file (csv), \n",
    "#stored file in the same file as the jupyter notebook code, for easier location etc\n",
    "    header = next(csvfile)\n",
    "    print(f'{header} <---- HEADER') \n",
    "\n",
    "    \n",
    "    for row in csvreader:\n",
    "        date = 0 \n",
    "        pnl = 1\n",
    "        budget_data[row[date]] = int(row[pnl])\n",
    "#      print(budget_data)"
   ]
  },
  {
   "cell_type": "code",
   "execution_count": 398,
   "id": "6f6c32ec-d7cb-4a76-9a4c-a0fc0f24cda0",
   "metadata": {},
   "outputs": [
    {
     "name": "stdout",
     "output_type": "stream",
     "text": [
      "There are a total of 86 months within the budget data. \n",
      "\n"
     ]
    }
   ],
   "source": [
    "months = len(budget_data) #months key/collum, and counted the length by using the len function.\n",
    "      #print for results\n",
    "print('There are a total of', months, \"months within the budget data. \\n\")"
   ]
  },
  {
   "cell_type": "code",
   "execution_count": 354,
   "id": "fcfe252e-aaab-424f-8135-4521a977ae4b",
   "metadata": {},
   "outputs": [
    {
     "name": "stdout",
     "output_type": "stream",
     "text": [
      "The net total amount of Profit/Losses over the entire period was 38382578 \n",
      "\n"
     ]
    }
   ],
   "source": [
    "net_pnl = sum(budget_data.values()) #new variable, simple code, all the dict values summed up tpo give net pnl\n",
    "#sum of all the profits cancel out the total losses(etc) leaving up with total pnl.\n",
    "print('The net total amount of Profit/Losses over the entire period was', net_pnl, \"\\n\")   #TOTAL Revenue\n",
    "\n",
    "\n",
    "#for period, pnl in budget_data.items(): #clearly presents each month and the pnl \n",
    "    #print(period,pnl)"
   ]
  },
  {
   "cell_type": "code",
   "execution_count": 432,
   "id": "4691328b-f87c-445a-81d9-8519c6d362c1",
   "metadata": {},
   "outputs": [
    {
     "name": "stdout",
     "output_type": "stream",
     "text": [
      "The average of the changes in the Profits and Losses over the entire period was -2315.12 .\n",
      "\n"
     ]
    }
   ],
   "source": [
    "values = budget_data.values()\n",
    "#print('PnL values:', values_list) was there to make code clearer\n",
    "\n",
    "list_values = list(values)\n",
    "#finn\n",
    "var = [y-x for x, y in zip(list_values[:-1], list_values[1:])]\n",
    "\n",
    "mean = round(sum(var)/(len(var)), 2) #Round off to 2 decimal places because its a money value, 2 decimal places shows the cents.\n",
    "mean = str(mean)\n",
    "print('The average of the changes in the Profits and Losses over the entire period was', mean,\".\\n\")"
   ]
  },
  {
   "cell_type": "code",
   "execution_count": 387,
   "id": "6022301e-c356-446d-9906-2efedcf54793",
   "metadata": {},
   "outputs": [],
   "source": [
    "rm = list(budget_data) #listing the budget data\n",
    "max_profits = (max(var)) #finding the greatest change\n",
    "max_index = (var.index(max(var))+1) #+ one due to it being an index starting at 0, now starts at 1\n",
    "\n",
    "keys_list = list(budget_data)\n",
    "max_key = keys_list[max_index]\n",
    "\n",
    "\n",
    "#calcualting the min\n",
    "min_profits = min(var)\n",
    "min_index = (var.index(min(var))+1) \n",
    "\n",
    "min_key = keys_list[min_index]"
   ]
  },
  {
   "cell_type": "code",
   "execution_count": 392,
   "id": "8e125e1a-8881-4d38-9ee4-0549cd4e987b",
   "metadata": {},
   "outputs": [
    {
     "name": "stdout",
     "output_type": "stream",
     "text": [
      "The greatest increase in Profits over the entire period was 1926159 in Feb-2012 .\n",
      "The greatest decrease in Losses over the entire period was -2196167 in Sep-2013 .\n"
     ]
    }
   ],
   "source": [
    "print('The greatest increase in Profits over the entire period was', max_profits, 'in', max_key, \".\")\n",
    "print('The greatest decrease in Losses over the entire period was', min_profits, 'in', min_key, \".\")"
   ]
  },
  {
   "cell_type": "code",
   "execution_count": 442,
   "id": "37ee0058-9aeb-4a3e-9f17-8f7dddf2bdcd",
   "metadata": {},
   "outputs": [],
   "source": [
    "output_path = Path(\"final_results.txt\")\n",
    "with open(output_path, 'w') as file:\n",
    "    file.write('There are a total of ')\n",
    "    file.write(months)\n",
    "    file.write(\" months within the budget data. \\n\")\n",
    "    file.write('The net total amount of Profit/Losses over the entire period was ')\n",
    "    file.write(net_pnl)\n",
    "    file.write(\"\\n\")\n",
    "    file.write('The average of the changes in the Profits and Losses over the entire period was ')\n",
    "    file.write(mean)\n",
    "    file.write(\",\\n\")\n",
    "    file.write('The greatest increase in Profits over the entire period was ')\n",
    "    file.write( str(max_profits))\n",
    "    file.write(' in ')\n",
    "    file.write( max_key)\n",
    "    file.write(\".\")\n",
    "    file.write(' The greatest decrease in Losses over the entire period was ')\n",
    "    file.write( str(min_profits))\n",
    "    file.write(' in ')\n",
    "    file.write( min_key)\n",
    "    file.write(\".\")"
   ]
  },
  {
   "cell_type": "code",
   "execution_count": 397,
   "id": "9ff4573d-dab5-4908-948c-a597e4a3b3f4",
   "metadata": {},
   "outputs": [],
   "source": []
  },
  {
   "cell_type": "code",
   "execution_count": null,
   "id": "9460e5e7-6e7b-448c-9a0e-c6636090689f",
   "metadata": {},
   "outputs": [],
   "source": []
  },
  {
   "cell_type": "code",
   "execution_count": null,
   "id": "e1a6d0db-97bd-4229-8632-899585a08c93",
   "metadata": {},
   "outputs": [],
   "source": []
  },
  {
   "cell_type": "code",
   "execution_count": null,
   "id": "8039fdb1-a7db-4eff-afd1-21f2971f3412",
   "metadata": {},
   "outputs": [],
   "source": []
  },
  {
   "cell_type": "code",
   "execution_count": null,
   "id": "b782ecaa-c9a1-4ad6-a39b-37d23dd0306a",
   "metadata": {},
   "outputs": [],
   "source": []
  },
  {
   "cell_type": "code",
   "execution_count": null,
   "id": "fa8aba6e-5488-4bbe-b2e8-16c5bf1dc25f",
   "metadata": {},
   "outputs": [],
   "source": []
  },
  {
   "cell_type": "code",
   "execution_count": null,
   "id": "9028b70d-68e7-4a59-90d9-55729d6f56cb",
   "metadata": {},
   "outputs": [],
   "source": []
  },
  {
   "cell_type": "code",
   "execution_count": null,
   "id": "4c96fd0e-f334-4f0a-a510-56f64dbd8647",
   "metadata": {},
   "outputs": [],
   "source": []
  },
  {
   "cell_type": "code",
   "execution_count": null,
   "id": "1b38704f-e2aa-463d-a7ef-fd641bac6de4",
   "metadata": {},
   "outputs": [],
   "source": []
  },
  {
   "cell_type": "code",
   "execution_count": null,
   "id": "f161112e-cdc8-43b4-aa0e-328768e73baf",
   "metadata": {},
   "outputs": [],
   "source": []
  }
 ],
 "metadata": {
  "kernelspec": {
   "display_name": "Python 3 (ipykernel)",
   "language": "python",
   "name": "python3"
  },
  "language_info": {
   "codemirror_mode": {
    "name": "ipython",
    "version": 3
   },
   "file_extension": ".py",
   "mimetype": "text/x-python",
   "name": "python",
   "nbconvert_exporter": "python",
   "pygments_lexer": "ipython3",
   "version": "3.7.11"
  }
 },
 "nbformat": 4,
 "nbformat_minor": 5
}
