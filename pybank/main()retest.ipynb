{
 "cells": [
  {
   "cell_type": "code",
   "execution_count": 29,
   "id": "692fcabb-1890-4981-ae55-1d46997b3a32",
   "metadata": {},
   "outputs": [],
   "source": [
    "#### Analysis and Calculations (35 points)\n",
    "\n",
    "##### To receive all points, your code must:\n",
    "\n",
    "    #* Include a calculation of the total number of months in the dataset. (2 points)\n",
    "    #* Calculate the net total amount of Profit/Losses over the entire period. (3 points)\n",
    "#* Calculate the average of the changes in Profit/Losses over the entire period. (5 points)\n",
    "#* Calculate the greatest increase in Profits over the entire period (Date and Amount). (10 points)\n",
    "#* Calculate the greatest decrease in Losses over the entire period (Date and Amount). (10 points)\n",
    "#* Print the analysis and export the analysis to a text file that contains the final results. (5 points)\n",
    "\n",
    "#### Coding Conventions and Formatting (10 points)\n",
    "\n",
    "##### To receive all points, your code must:\n",
    "\n",
    "#* Place imports at the beginning of the file, just after any module comments and docstrings and before module globals and constants. (3 points)\n",
    "#* Name functions and variables with lowercase characters and with words separated by underscores. (2 points)\n",
    "#* Follow Don't Repeat Yourself (DRY) principles by creating maintainable and reusable code. (3 points)\n",
    "#* Use concise logic and creative engineering where possible. (2 points) "
   ]
  },
  {
   "cell_type": "code",
   "execution_count": 30,
   "id": "f95558e3-0f0f-4d14-9c18-491b498b5315",
   "metadata": {},
   "outputs": [],
   "source": [
    "months = 0  \n",
    "profit = 0 \n",
    "loss = 0 \n",
    "ave_pnl = 0\n",
    "greatest_profits = 0 \n",
    "greatest_losses = 0 \n",
    "#sort through task and created all variables possibly needed"
   ]
  },
  {
   "cell_type": "code",
   "execution_count": 108,
   "id": "ce701c97-7c07-48aa-a297-dcbc9db406a7",
   "metadata": {},
   "outputs": [
    {
     "name": "stdout",
     "output_type": "stream",
     "text": [
      "Date,Profit/Losses\n",
      " <---- HEADER\n",
      "{'Jan-2010': 867884, 'Feb-2010': 984655, 'Mar-2010': 322013, 'Apr-2010': -69417, 'May-2010': 310503, 'Jun-2010': 522857, 'Jul-2010': 1033096, 'Aug-2010': 604885, 'Sep-2010': -216386, 'Oct-2010': 477532, 'Nov-2010': 893810, 'Dec-2010': -80353, 'Jan-2011': 779806, 'Feb-2011': -335203, 'Mar-2011': 697845, 'Apr-2011': 793163, 'May-2011': 485070, 'Jun-2011': 584122, 'Jul-2011': 62729, 'Aug-2011': 668179, 'Sep-2011': 899906, 'Oct-2011': 834719, 'Nov-2011': 132003, 'Dec-2011': 309978, 'Jan-2012': -755566, 'Feb-2012': 1170593, 'Mar-2012': 252788, 'Apr-2012': 1151518, 'May-2012': 817256, 'Jun-2012': 570757, 'Jul-2012': 506702, 'Aug-2012': -1022534, 'Sep-2012': 475062, 'Oct-2012': 779976, 'Nov-2012': 144175, 'Dec-2012': 542494, 'Jan-2013': 359333, 'Feb-2013': 321469, 'Mar-2013': 67780, 'Apr-2013': 471435, 'May-2013': 565603, 'Jun-2013': 872480, 'Jul-2013': 789480, 'Aug-2013': 999942, 'Sep-2013': -1196225, 'Oct-2013': 268997, 'Nov-2013': -687986, 'Dec-2013': 1150461, 'Jan-2014': 682458, 'Feb-2014': 617856, 'Mar-2014': 824098, 'Apr-2014': 581943, 'May-2014': 132864, 'Jun-2014': 448062, 'Jul-2014': 689161, 'Aug-2014': 800701, 'Sep-2014': 1166643, 'Oct-2014': 947333, 'Nov-2014': 578668, 'Dec-2014': 988505, 'Jan-2015': 1139715, 'Feb-2015': 1029471, 'Mar-2015': 687533, 'Apr-2015': -524626, 'May-2015': 158620, 'Jun-2015': 87795, 'Jul-2015': 423389, 'Aug-2015': 840723, 'Sep-2015': 568529, 'Oct-2015': 332067, 'Nov-2015': 989499, 'Dec-2015': 778237, 'Jan-2016': 650000, 'Feb-2016': -1100387, 'Mar-2016': -174946, 'Apr-2016': 757143, 'May-2016': 445709, 'Jun-2016': 712961, 'Jul-2016': -1163797, 'Aug-2016': 569899, 'Sep-2016': 768450, 'Oct-2016': 102685, 'Nov-2016': 795914, 'Dec-2016': 60988, 'Jan-2017': 138230, 'Feb-2017': 671099}\n"
     ]
    }
   ],
   "source": [
    "from pathlib import Path \n",
    "import csv\n",
    "#importing pathlib and csv file\n",
    "csvpath = Path(\"budget_data.csv\") #csv file location/path = in current directory\n",
    "\n",
    "budget_data = {}\n",
    "\n",
    "with open(csvpath, 'r') as csvfile:\n",
    "    csvreader = csv.reader(csvfile, delimiter=',') #delimiter seperates the values with ','\n",
    "\n",
    "#imported and confirmed file (csv), \n",
    "#stored file in the same file as the jupyter notebook code, for easier location etc\n",
    "    header = next(csvfile)\n",
    "    print(f'{header} <---- HEADER') \n",
    "\n",
    "    \n",
    "    for row in csvreader:\n",
    "        date = 0 \n",
    "        pnl = 1\n",
    "        budget_data[row[date]] = int(row[pnl])\n",
    "print(budget_data)"
   ]
  },
  {
   "cell_type": "code",
   "execution_count": 334,
   "id": "6f6c32ec-d7cb-4a76-9a4c-a0fc0f24cda0",
   "metadata": {},
   "outputs": [
    {
     "name": "stdout",
     "output_type": "stream",
     "text": [
      "There are a total of 86 months within the budget data. \n",
      "The net total amount of Profit/Losses over the entire period was 38382578 \n",
      "\n"
     ]
    }
   ],
   "source": [
    "months = len(budget_data) #months key/collum, and counted the length by using the len function.\n",
    "      #print for results\n",
    "print('There are a total of', months, \"months within the budget data. \\n\")"
   ]
  },
  {
   "cell_type": "code",
   "execution_count": 354,
   "id": "fcfe252e-aaab-424f-8135-4521a977ae4b",
   "metadata": {},
   "outputs": [
    {
     "name": "stdout",
     "output_type": "stream",
     "text": [
      "The net total amount of Profit/Losses over the entire period was 38382578 \n",
      "\n"
     ]
    }
   ],
   "source": [
    "net_pnl = sum(budget_data.values()) #new variable, simple code, all the dict values summed up tpo give net pnl\n",
    "#sum of all the profits cancel out the total losses(etc) leaving up with total pnl.\n",
    "print('The net total amount of Profit/Losses over the entire period was', net_pnl, \"\\n\")   #TOTAL Revenue\n",
    "\n",
    "\n",
    "#for period, pnl in budget_data.items(): #clearly presents each month and the pnl \n",
    "    #print(period,pnl)"
   ]
  },
  {
   "cell_type": "code",
   "execution_count": 356,
   "id": "4691328b-f87c-445a-81d9-8519c6d362c1",
   "metadata": {},
   "outputs": [
    {
     "name": "stdout",
     "output_type": "stream",
     "text": [
      "The average of the changes in the Profits and Losses over the entire period was -2315.12 .\n",
      "\n"
     ]
    }
   ],
   "source": [
    "values = budget_data.values()\n",
    "#print('PnL values:', values_list) was there to make code clearer\n",
    "\n",
    "list_values = list(values)\n",
    "#finn\n",
    "var = [y-x for x, y in zip(list_values[:-1], list_values[1:])]\n",
    "\n",
    "mean = round(sum(var)/(len(var)), 2) #Round off to 2 decimal places because its a money value, 2 decimal places shows the cents.\n",
    "print('The average of the changes in the Profits and Losses over the entire period was', mean,\".\\n\")"
   ]
  },
  {
   "cell_type": "code",
   "execution_count": 387,
   "id": "6022301e-c356-446d-9906-2efedcf54793",
   "metadata": {},
   "outputs": [],
   "source": [
    "rm = list(budget_data) #listing the budget data\n",
    "max_profits = max(var) #finding the greatest change\n",
    "max_index = (var.index(max(var))+1) #+ one due to it being an index starting at 0, now starts at 1\n",
    "\n",
    "keys_list = list(budget_data)\n",
    "max_key = keys_list[max_index]\n",
    "\n",
    "\n",
    "#calcualting the min\n",
    "min_profits = min(var)\n",
    "min_index = (var.index(min(var))+1) \n",
    "\n",
    "min_key = keys_list[min_index]"
   ]
  },
  {
   "cell_type": "code",
   "execution_count": 338,
   "id": "8e125e1a-8881-4d38-9ee4-0549cd4e987b",
   "metadata": {},
   "outputs": [
    {
     "name": "stdout",
     "output_type": "stream",
     "text": [
      "The greatest increase in Profits over the entire period was 1926159 .\n",
      "The greatest decrease in Losses over the entire period was -2196167 .\n"
     ]
    }
   ],
   "source": [
    "greatest_profits = max(var)\n",
    "greatest_losses = min(var)\n",
    "\n",
    "print('The greatest increase in Profits over the entire period was', greatest_profits, \".\")\n",
    "print('The greatest decrease in Losses over the entire period was', greatest_losses, \".\")"
   ]
  },
  {
   "cell_type": "code",
   "execution_count": null,
   "id": "8039fdb1-a7db-4eff-afd1-21f2971f3412",
   "metadata": {},
   "outputs": [],
   "source": []
  },
  {
   "cell_type": "code",
   "execution_count": null,
   "id": "1b38704f-e2aa-463d-a7ef-fd641bac6de4",
   "metadata": {},
   "outputs": [],
   "source": []
  },
  {
   "cell_type": "code",
   "execution_count": null,
   "id": "b782ecaa-c9a1-4ad6-a39b-37d23dd0306a",
   "metadata": {},
   "outputs": [],
   "source": []
  },
  {
   "cell_type": "code",
   "execution_count": null,
   "id": "4c96fd0e-f334-4f0a-a510-56f64dbd8647",
   "metadata": {},
   "outputs": [],
   "source": []
  },
  {
   "cell_type": "code",
   "execution_count": null,
   "id": "9028b70d-68e7-4a59-90d9-55729d6f56cb",
   "metadata": {},
   "outputs": [],
   "source": []
  },
  {
   "cell_type": "code",
   "execution_count": 330,
   "id": "9ff4573d-dab5-4908-948c-a597e4a3b3f4",
   "metadata": {},
   "outputs": [
    {
     "ename": "NameError",
     "evalue": "name 'sys' is not defined",
     "output_type": "error",
     "traceback": [
      "\u001b[0;31m---------------------------------------------------------------------------\u001b[0m",
      "\u001b[0;31mNameError\u001b[0m                                 Traceback (most recent call last)",
      "\u001b[0;32m/var/folders/m7/rynp7npd69d8gtn9dqc_ry_c0000gn/T/ipykernel_38009/2361243261.py\u001b[0m in \u001b[0;36m<module>\u001b[0;34m\u001b[0m\n\u001b[0;32m----> 1\u001b[0;31m \u001b[0msys\u001b[0m\u001b[0;34m.\u001b[0m\u001b[0mstdout\u001b[0m \u001b[0;34m=\u001b[0m \u001b[0mopen\u001b[0m\u001b[0;34m(\u001b[0m\u001b[0;34m\"test.txt\"\u001b[0m\u001b[0;34m,\u001b[0m \u001b[0;34m\"w\"\u001b[0m\u001b[0;34m)\u001b[0m\u001b[0;34m\u001b[0m\u001b[0;34m\u001b[0m\u001b[0m\n\u001b[0m\u001b[1;32m      2\u001b[0m \u001b[0;34m\u001b[0m\u001b[0m\n\u001b[1;32m      3\u001b[0m \u001b[0mprint\u001b[0m\u001b[0;34m(\u001b[0m\u001b[0;34m\"Hello World\"\u001b[0m\u001b[0;34m)\u001b[0m\u001b[0;34m\u001b[0m\u001b[0;34m\u001b[0m\u001b[0m\n\u001b[1;32m      4\u001b[0m \u001b[0;34m\u001b[0m\u001b[0m\n\u001b[1;32m      5\u001b[0m \u001b[0msys\u001b[0m\u001b[0;34m.\u001b[0m\u001b[0mstdout\u001b[0m\u001b[0;34m.\u001b[0m\u001b[0mclose\u001b[0m\u001b[0;34m(\u001b[0m\u001b[0;34m)\u001b[0m\u001b[0;34m\u001b[0m\u001b[0;34m\u001b[0m\u001b[0m\n",
      "\u001b[0;31mNameError\u001b[0m: name 'sys' is not defined"
     ]
    }
   ],
   "source": [
    "sys.stdout = open(\"test.txt\", \"w\")\n",
    "\n",
    "print(\"Hello World\")\n",
    "\n",
    "sys.stdout.close()"
   ]
  },
  {
   "cell_type": "code",
   "execution_count": 329,
   "id": "9460e5e7-6e7b-448c-9a0e-c6636090689f",
   "metadata": {},
   "outputs": [
    {
     "ename": "SyntaxError",
     "evalue": "unexpected EOF while parsing (4198421401.py, line 2)",
     "output_type": "error",
     "traceback": [
      "\u001b[0;36m  File \u001b[0;32m\"/var/folders/m7/rynp7npd69d8gtn9dqc_ry_c0000gn/T/ipykernel_38009/4198421401.py\"\u001b[0;36m, line \u001b[0;32m2\u001b[0m\n\u001b[0;31m    file.write(print('There are a total of ', months,'within the budget data. \\n' 'The net total amount of Profit/Losses over the entire period was', net_pnl, '\\n The average of the changes in the Profits and Losses over the entire period was', mean, '. \\n The greatest increase in Profits over the entire period was', greatest_profits, '.The greatest decrease in Losses over the entire period was', greatest_losses, '.')\u001b[0m\n\u001b[0m                                                                                                                                                                                                                                                                                                                                                                                                                                     ^\u001b[0m\n\u001b[0;31mSyntaxError\u001b[0m\u001b[0;31m:\u001b[0m unexpected EOF while parsing\n"
     ]
    }
   ],
   "source": [
    "file = open('PyBank Final Results.txt', 'w')\n",
    "file.write(print('There are a total of ', months,'within the budget data. \\n' 'The net total amount of Profit/Losses over the entire period was', net_pnl, '\\n The average of the changes in the Profits and Losses over the entire period was', mean, '. \\n The greatest increase in Profits over the entire period was', greatest_profits, '.The greatest decrease in Losses over the entire period was', greatest_losses, '.')"
   ]
  },
  {
   "cell_type": "code",
   "execution_count": 328,
   "id": "e1a6d0db-97bd-4229-8632-899585a08c93",
   "metadata": {},
   "outputs": [
    {
     "ename": "SyntaxError",
     "evalue": "invalid syntax (1574319265.py, line 3)",
     "output_type": "error",
     "traceback": [
      "\u001b[0;36m  File \u001b[0;32m\"/var/folders/m7/rynp7npd69d8gtn9dqc_ry_c0000gn/T/ipykernel_38009/1574319265.py\"\u001b[0;36m, line \u001b[0;32m3\u001b[0m\n\u001b[0;31m    file.write(print('The average of the changes in the Profits and Losses over the entire period was', mean, \". \\n\"\u001b[0m\n\u001b[0m       ^\u001b[0m\n\u001b[0;31mSyntaxError\u001b[0m\u001b[0;31m:\u001b[0m invalid syntax\n"
     ]
    }
   ],
   "source": [
    "file = open('PyBank Final Results.txt', 'w')"
   ]
  },
  {
   "cell_type": "code",
   "execution_count": null,
   "id": "37ee0058-9aeb-4a3e-9f17-8f7dddf2bdcd",
   "metadata": {},
   "outputs": [],
   "source": []
  },
  {
   "cell_type": "code",
   "execution_count": null,
   "id": "fa8aba6e-5488-4bbe-b2e8-16c5bf1dc25f",
   "metadata": {},
   "outputs": [],
   "source": []
  },
  {
   "cell_type": "code",
   "execution_count": null,
   "id": "f161112e-cdc8-43b4-aa0e-328768e73baf",
   "metadata": {},
   "outputs": [],
   "source": []
  }
 ],
 "metadata": {
  "kernelspec": {
   "display_name": "Python 3 (ipykernel)",
   "language": "python",
   "name": "python3"
  },
  "language_info": {
   "codemirror_mode": {
    "name": "ipython",
    "version": 3
   },
   "file_extension": ".py",
   "mimetype": "text/x-python",
   "name": "python",
   "nbconvert_exporter": "python",
   "pygments_lexer": "ipython3",
   "version": "3.7.11"
  }
 },
 "nbformat": 4,
 "nbformat_minor": 5
}
