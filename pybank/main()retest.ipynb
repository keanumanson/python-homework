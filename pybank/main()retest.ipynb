{
 "cells": [
  {
   "cell_type": "code",
   "execution_count": 29,
   "id": "692fcabb-1890-4981-ae55-1d46997b3a32",
   "metadata": {},
   "outputs": [],
   "source": [
    "#### Analysis and Calculations (35 points)\n",
    "\n",
    "##### To receive all points, your code must:\n",
    "\n",
    "    #* Include a calculation of the total number of months in the dataset. (2 points)\n",
    "    #* Calculate the net total amount of Profit/Losses over the entire period. (3 points)\n",
    "#* Calculate the average of the changes in Profit/Losses over the entire period. (5 points)\n",
    "#* Calculate the greatest increase in Profits over the entire period (Date and Amount). (10 points)\n",
    "#* Calculate the greatest decrease in Losses over the entire period (Date and Amount). (10 points)\n",
    "#* Print the analysis and export the analysis to a text file that contains the final results. (5 points)\n",
    "\n",
    "#### Coding Conventions and Formatting (10 points)\n",
    "\n",
    "##### To receive all points, your code must:\n",
    "\n",
    "#* Place imports at the beginning of the file, just after any module comments and docstrings and before module globals and constants. (3 points)\n",
    "#* Name functions and variables with lowercase characters and with words separated by underscores. (2 points)\n",
    "#* Follow Don't Repeat Yourself (DRY) principles by creating maintainable and reusable code. (3 points)\n",
    "#* Use concise logic and creative engineering where possible. (2 points) "
   ]
  },
  {
   "cell_type": "code",
   "execution_count": 30,
   "id": "f95558e3-0f0f-4d14-9c18-491b498b5315",
   "metadata": {},
   "outputs": [],
   "source": [
    "months = 0  \n",
    "profit = 0 \n",
    "loss = 0 \n",
    "ave_pnl = 0\n",
    "greatest_profits = 0 \n",
    "greatest_losses = 0 \n",
    "#sort through task and created all variables possibly needed"
   ]
  },
  {
   "cell_type": "code",
   "execution_count": 108,
   "id": "ce701c97-7c07-48aa-a297-dcbc9db406a7",
   "metadata": {},
   "outputs": [
    {
     "name": "stdout",
     "output_type": "stream",
     "text": [
      "Date,Profit/Losses\n",
      " <---- HEADER\n",
      "{'Jan-2010': 867884, 'Feb-2010': 984655, 'Mar-2010': 322013, 'Apr-2010': -69417, 'May-2010': 310503, 'Jun-2010': 522857, 'Jul-2010': 1033096, 'Aug-2010': 604885, 'Sep-2010': -216386, 'Oct-2010': 477532, 'Nov-2010': 893810, 'Dec-2010': -80353, 'Jan-2011': 779806, 'Feb-2011': -335203, 'Mar-2011': 697845, 'Apr-2011': 793163, 'May-2011': 485070, 'Jun-2011': 584122, 'Jul-2011': 62729, 'Aug-2011': 668179, 'Sep-2011': 899906, 'Oct-2011': 834719, 'Nov-2011': 132003, 'Dec-2011': 309978, 'Jan-2012': -755566, 'Feb-2012': 1170593, 'Mar-2012': 252788, 'Apr-2012': 1151518, 'May-2012': 817256, 'Jun-2012': 570757, 'Jul-2012': 506702, 'Aug-2012': -1022534, 'Sep-2012': 475062, 'Oct-2012': 779976, 'Nov-2012': 144175, 'Dec-2012': 542494, 'Jan-2013': 359333, 'Feb-2013': 321469, 'Mar-2013': 67780, 'Apr-2013': 471435, 'May-2013': 565603, 'Jun-2013': 872480, 'Jul-2013': 789480, 'Aug-2013': 999942, 'Sep-2013': -1196225, 'Oct-2013': 268997, 'Nov-2013': -687986, 'Dec-2013': 1150461, 'Jan-2014': 682458, 'Feb-2014': 617856, 'Mar-2014': 824098, 'Apr-2014': 581943, 'May-2014': 132864, 'Jun-2014': 448062, 'Jul-2014': 689161, 'Aug-2014': 800701, 'Sep-2014': 1166643, 'Oct-2014': 947333, 'Nov-2014': 578668, 'Dec-2014': 988505, 'Jan-2015': 1139715, 'Feb-2015': 1029471, 'Mar-2015': 687533, 'Apr-2015': -524626, 'May-2015': 158620, 'Jun-2015': 87795, 'Jul-2015': 423389, 'Aug-2015': 840723, 'Sep-2015': 568529, 'Oct-2015': 332067, 'Nov-2015': 989499, 'Dec-2015': 778237, 'Jan-2016': 650000, 'Feb-2016': -1100387, 'Mar-2016': -174946, 'Apr-2016': 757143, 'May-2016': 445709, 'Jun-2016': 712961, 'Jul-2016': -1163797, 'Aug-2016': 569899, 'Sep-2016': 768450, 'Oct-2016': 102685, 'Nov-2016': 795914, 'Dec-2016': 60988, 'Jan-2017': 138230, 'Feb-2017': 671099}\n"
     ]
    }
   ],
   "source": [
    "from pathlib import Path \n",
    "import csv\n",
    "#importing pathlib and csv file\n",
    "csvpath = Path(\"budget_data.csv\") #csv file location/path = in current directory\n",
    "\n",
    "budget_data = {}\n",
    "\n",
    "with open(csvpath, 'r') as csvfile:\n",
    "    csvreader = csv.reader(csvfile, delimiter=',') #delimiter seperates the values with ','\n",
    "\n",
    "#imported and confirmed file (csv), \n",
    "#stored file in the same file as the jupyter notebook code, for easier location etc\n",
    "    header = next(csvfile)\n",
    "    print(f'{header} <---- HEADER') \n",
    "\n",
    "    \n",
    "    for row in csvreader:\n",
    "        date = 0 \n",
    "        pnl = 1\n",
    "        budget_data[row[date]] = int(row[pnl])\n",
    "print(budget_data)"
   ]
  },
  {
   "cell_type": "code",
   "execution_count": 112,
   "id": "6f6c32ec-d7cb-4a76-9a4c-a0fc0f24cda0",
   "metadata": {},
   "outputs": [
    {
     "name": "stdout",
     "output_type": "stream",
     "text": [
      "86\n"
     ]
    }
   ],
   "source": [
    "months = len(budget_data) #months key/collum, and counted the length by using the len function.\n",
    "print(months) #print for results"
   ]
  },
  {
   "cell_type": "code",
   "execution_count": 268,
   "id": "fcfe252e-aaab-424f-8135-4521a977ae4b",
   "metadata": {},
   "outputs": [
    {
     "name": "stdout",
     "output_type": "stream",
     "text": [
      "Net Profits and Losses: 38382578\n"
     ]
    }
   ],
   "source": [
    "net_pnl = sum(budget_data.values()) #new variable, simple code, all the dict values summed up tpo give net pnl\n",
    "#sum of all the profits cancel out the total losses(etc) leaving up with total pnl.\n",
    "\n",
    "print(\"Net Profits and Losses:\", net_pnl)   #TOTAL Revenue\n",
    "\n",
    "#for period, pnl in budget_data.items(): #clearly presents each month and the pnl \n",
    "    #print(period,pnl)"
   ]
  },
  {
   "cell_type": "code",
   "execution_count": 275,
   "id": "4691328b-f87c-445a-81d9-8519c6d362c1",
   "metadata": {},
   "outputs": [
    {
     "ename": "TypeError",
     "evalue": "unhashable type: 'slice'",
     "output_type": "error",
     "traceback": [
      "\u001b[0;31m---------------------------------------------------------------------------\u001b[0m",
      "\u001b[0;31mTypeError\u001b[0m                                 Traceback (most recent call last)",
      "\u001b[0;32m/var/folders/m7/rynp7npd69d8gtn9dqc_ry_c0000gn/T/ipykernel_38009/2466543585.py\u001b[0m in \u001b[0;36m<module>\u001b[0;34m\u001b[0m\n\u001b[1;32m      4\u001b[0m \u001b[0mlist_values\u001b[0m \u001b[0;34m=\u001b[0m \u001b[0mlist\u001b[0m\u001b[0;34m(\u001b[0m\u001b[0mvalues\u001b[0m\u001b[0;34m)\u001b[0m\u001b[0;34m\u001b[0m\u001b[0;34m\u001b[0m\u001b[0m\n\u001b[1;32m      5\u001b[0m \u001b[0;31m#finn\u001b[0m\u001b[0;34m\u001b[0m\u001b[0;34m\u001b[0m\u001b[0;34m\u001b[0m\u001b[0m\n\u001b[0;32m----> 6\u001b[0;31m \u001b[0mvar\u001b[0m \u001b[0;34m=\u001b[0m \u001b[0;34m[\u001b[0m\u001b[0my\u001b[0m\u001b[0;34m-\u001b[0m\u001b[0mx\u001b[0m \u001b[0;32mfor\u001b[0m \u001b[0mx\u001b[0m\u001b[0;34m,\u001b[0m \u001b[0my\u001b[0m \u001b[0;32min\u001b[0m \u001b[0mzip\u001b[0m\u001b[0;34m(\u001b[0m\u001b[0mbudget_data\u001b[0m\u001b[0;34m[\u001b[0m\u001b[0;34m:\u001b[0m\u001b[0;34m-\u001b[0m\u001b[0;36m1\u001b[0m\u001b[0;34m]\u001b[0m\u001b[0;34m,\u001b[0m \u001b[0mbudget_data\u001b[0m\u001b[0;34m[\u001b[0m\u001b[0;36m1\u001b[0m\u001b[0;34m:\u001b[0m\u001b[0;34m]\u001b[0m\u001b[0;34m)\u001b[0m\u001b[0;34m]\u001b[0m\u001b[0;34m\u001b[0m\u001b[0;34m\u001b[0m\u001b[0m\n\u001b[0m\u001b[1;32m      7\u001b[0m \u001b[0;34m\u001b[0m\u001b[0m\n\u001b[1;32m      8\u001b[0m \u001b[0mmean\u001b[0m \u001b[0;34m=\u001b[0m \u001b[0mround\u001b[0m\u001b[0;34m(\u001b[0m\u001b[0msum\u001b[0m\u001b[0;34m(\u001b[0m\u001b[0mvar\u001b[0m\u001b[0;34m)\u001b[0m\u001b[0;34m/\u001b[0m\u001b[0;34m(\u001b[0m\u001b[0mlen\u001b[0m\u001b[0;34m(\u001b[0m\u001b[0mbudget_data\u001b[0m\u001b[0;34m)\u001b[0m\u001b[0;34m)\u001b[0m\u001b[0;34m,\u001b[0m \u001b[0;36m2\u001b[0m\u001b[0;34m)\u001b[0m \u001b[0;31m#Round off to 2 decimal places because its a money value, 2 decimal places shows the cents.\u001b[0m\u001b[0;34m\u001b[0m\u001b[0;34m\u001b[0m\u001b[0m\n",
      "\u001b[0;31mTypeError\u001b[0m: unhashable type: 'slice'"
     ]
    }
   ],
   "source": [
    "values = budget_data.values()\n",
    "#print('PnL values:', values_list) was there to make code clearer\n",
    "\n",
    "list_values = list(values)\n",
    "#finn\n",
    "var = [y-x for x, y in zip(list_values[:-1], list_values[1:])]\n",
    " \n",
    "mean = round(sum(var)/(len(budget_data)), 2) #Round off to 2 decimal places because its a money value, 2 decimal places shows the cents.\n",
    "print('ave pnl = ', mean)"
   ]
  },
  {
   "cell_type": "code",
   "execution_count": 270,
   "id": "8e125e1a-8881-4d38-9ee4-0549cd4e987b",
   "metadata": {},
   "outputs": [
    {
     "name": "stdout",
     "output_type": "stream",
     "text": [
      "1926159 are the greatest profits\n",
      "-2196167 are the greatest losses\n"
     ]
    }
   ],
   "source": [
    "greatest_profits = max(var)\n",
    "greatest_losses = min(var)\n",
    "print(greatest_profits, 'are the greatest profits')\n",
    "print(greatest_losses, 'are the greatest losses')"
   ]
  },
  {
   "cell_type": "code",
   "execution_count": 277,
   "id": "6022301e-c356-446d-9906-2efedcf54793",
   "metadata": {},
   "outputs": [
    {
     "data": {
      "text/plain": [
       "[]"
      ]
     },
     "execution_count": 277,
     "metadata": {},
     "output_type": "execute_result"
    }
   ],
   "source": [
    "\n",
    "#values to keys\n",
    "\n",
    "[values for values, pnl in budget_data.items() if pnl == '']"
   ]
  },
  {
   "cell_type": "code",
   "execution_count": null,
   "id": "8039fdb1-a7db-4eff-afd1-21f2971f3412",
   "metadata": {},
   "outputs": [],
   "source": [
    "monthly_change = []\n",
    "\n",
    "for x in range((months)-1):\n",
    "    monthly_change.append((values[x+1][1]) - (values[x][1]))\n",
    "print(monthly_change) ##wai attmept delete"
   ]
  },
  {
   "cell_type": "code",
   "execution_count": 323,
   "id": "1b38704f-e2aa-463d-a7ef-fd641bac6de4",
   "metadata": {},
   "outputs": [],
   "source": [
    "order = {}\n",
    "for value, numb in enumerate(values_list,1):    #delete. attempt\n",
    "    order = f\"{value}: {numb}\""
   ]
  },
  {
   "cell_type": "code",
   "execution_count": null,
   "id": "b782ecaa-c9a1-4ad6-a39b-37d23dd0306a",
   "metadata": {},
   "outputs": [],
   "source": []
  },
  {
   "cell_type": "code",
   "execution_count": null,
   "id": "4c96fd0e-f334-4f0a-a510-56f64dbd8647",
   "metadata": {},
   "outputs": [],
   "source": []
  },
  {
   "cell_type": "code",
   "execution_count": null,
   "id": "9028b70d-68e7-4a59-90d9-55729d6f56cb",
   "metadata": {},
   "outputs": [],
   "source": [
    "Calculate the net total amount of Profit/Losses over the entire period. (3 points)\n",
    "#* Calculate t. (5 points)"
   ]
  },
  {
   "cell_type": "code",
   "execution_count": null,
   "id": "9ff4573d-dab5-4908-948c-a597e4a3b3f4",
   "metadata": {},
   "outputs": [],
   "source": []
  },
  {
   "cell_type": "code",
   "execution_count": 322,
   "id": "9460e5e7-6e7b-448c-9a0e-c6636090689f",
   "metadata": {},
   "outputs": [
    {
     "ename": "IndentationError",
     "evalue": "unexpected indent (3194018241.py, line 2)",
     "output_type": "error",
     "traceback": [
      "\u001b[0;36m  File \u001b[0;32m\"/var/folders/m7/rynp7npd69d8gtn9dqc_ry_c0000gn/T/ipykernel_38009/3194018241.py\"\u001b[0;36m, line \u001b[0;32m2\u001b[0m\n\u001b[0;31m    file.write(print('There are a total of ', months,'within the budget data. \\n' 'The net total amount of Profit/Losses over the entire period was', net_pnl, '\\n The average of the changes in the Profits and Losses over the entire period was', mean, '. \\n The greatest increase in Profits over the entire period was', greatest_profits, '.The greatest decrease in Losses over the entire period was', greatest_losses, '.')\u001b[0m\n\u001b[0m    ^\u001b[0m\n\u001b[0;31mIndentationError\u001b[0m\u001b[0;31m:\u001b[0m unexpected indent\n"
     ]
    }
   ],
   "source": [
    "file = open('PyBank Final Results.txt', 'w')\n",
    "file.write(print('There are a total of ', months,'within the budget data. \\n' 'The net total amount of Profit/Losses over the entire period was', net_pnl, '\\n The average of the changes in the Profits and Losses over the entire period was', mean, '. \\n The greatest increase in Profits over the entire period was', greatest_profits, '.The greatest decrease in Losses over the entire period was', greatest_losses, '.')"
   ]
  },
  {
   "cell_type": "code",
   "execution_count": 319,
   "id": "e1a6d0db-97bd-4229-8632-899585a08c93",
   "metadata": {},
   "outputs": [
    {
     "ename": "SyntaxError",
     "evalue": "invalid syntax (619874975.py, line 3)",
     "output_type": "error",
     "traceback": [
      "\u001b[0;36m  File \u001b[0;32m\"/var/folders/m7/rynp7npd69d8gtn9dqc_ry_c0000gn/T/ipykernel_38009/619874975.py\"\u001b[0;36m, line \u001b[0;32m3\u001b[0m\n\u001b[0;31m    file.write(print('The net total amount of Profit/Losses over the entire period was', net_pnl, \"\\n\")\u001b[0m\n\u001b[0m       ^\u001b[0m\n\u001b[0;31mSyntaxError\u001b[0m\u001b[0;31m:\u001b[0m invalid syntax\n"
     ]
    }
   ],
   "source": [
    "file = open('PyBank Final Results.txt', 'w')\n",
    "file.write(print('There are a total of ', months, \"within the budget data. \\n\" 'The net total amount of Profit/Losses over the entire period was', net_pnl, \"\\n\")\n",
    "file.write(print('The average of the changes in the Profits and Losses over the entire period was', mean, \". \\n\"\n",
    "file.write(print('The greatest increase in Profits over the entire period was', greatest_profits, \".\")\n",
    "file.write(print('The greatest decrease in Losses over the entire period was', greatest_losses, \".\")"
   ]
  },
  {
   "cell_type": "code",
   "execution_count": 318,
   "id": "37ee0058-9aeb-4a3e-9f17-8f7dddf2bdcd",
   "metadata": {},
   "outputs": [
    {
     "ename": "SyntaxError",
     "evalue": "invalid syntax (4278157942.py, line 3)",
     "output_type": "error",
     "traceback": [
      "\u001b[0;36m  File \u001b[0;32m\"/var/folders/m7/rynp7npd69d8gtn9dqc_ry_c0000gn/T/ipykernel_38009/4278157942.py\"\u001b[0;36m, line \u001b[0;32m3\u001b[0m\n\u001b[0;31m    file.write(print('The average of the changes in Profit/Losses over the entire period was', mean,\u001b[0m\n\u001b[0m       ^\u001b[0m\n\u001b[0;31mSyntaxError\u001b[0m\u001b[0;31m:\u001b[0m invalid syntax\n"
     ]
    }
   ],
   "source": []
  },
  {
   "cell_type": "code",
   "execution_count": null,
   "id": "fa8aba6e-5488-4bbe-b2e8-16c5bf1dc25f",
   "metadata": {},
   "outputs": [],
   "source": []
  },
  {
   "cell_type": "code",
   "execution_count": null,
   "id": "f161112e-cdc8-43b4-aa0e-328768e73baf",
   "metadata": {},
   "outputs": [],
   "source": []
  }
 ],
 "metadata": {
  "kernelspec": {
   "display_name": "Python 3 (ipykernel)",
   "language": "python",
   "name": "python3"
  },
  "language_info": {
   "codemirror_mode": {
    "name": "ipython",
    "version": 3
   },
   "file_extension": ".py",
   "mimetype": "text/x-python",
   "name": "python",
   "nbconvert_exporter": "python",
   "pygments_lexer": "ipython3",
   "version": "3.7.11"
  }
 },
 "nbformat": 4,
 "nbformat_minor": 5
}
