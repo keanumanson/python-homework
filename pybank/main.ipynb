{
 "cells": [
  {
   "cell_type": "code",
   "execution_count": null,
   "id": "416b6c1c-ce10-4d81-857a-1073c70dff87",
   "metadata": {},
   "outputs": [],
   "source": [
    "#### Analysis and Calculations (35 points)\n",
    "\n",
    "##### To receive all points, your code must:\n",
    "\n",
    "#* Include a calculation of the total number of months in the dataset. (2 points)\n",
    "#* Calculate the net total amount of Profit/Losses over the entire period. (3 points)\n",
    "#* Calculate the average of the changes in Profit/Losses over the entire period. (5 points)\n",
    "#* Calculate the greatest increase in Profits over the entire period (Date and Amount). (10 points)\n",
    "#* Calculate the greatest decrease in Losses over the entire period (Date and Amount). (10 points)\n",
    "#* Print the analysis and export the analysis to a text file that contains the final results. (5 points)\n",
    "\n",
    "#### Coding Conventions and Formatting (10 points)\n",
    "\n",
    "##### To receive all points, your code must:\n",
    "\n",
    "#* Place imports at the beginning of the file, just after any module comments and docstrings and before module globals and constants. (3 points)\n",
    "#* Name functions and variables with lowercase characters and with words separated by underscores. (2 points)\n",
    "#* Follow Don't Repeat Yourself (DRY) principles by creating maintainable and reusable code. (3 points)\n",
    "#* Use concise logic and creative engineering where possible. (2 points)\n",
    "\n",
    "\n",
    "#########^^^^^Task (copy and paste)^^^^^#########"
   ]
  },
  {
   "cell_type": "code",
   "execution_count": null,
   "id": "25d35835-f0e6-4915-9baa-b9e4c91e7192",
   "metadata": {},
   "outputs": [],
   "source": [
    "from pathlib import Path \n",
    "import csv\n",
    "\n",
    "print(f\"Current Working Directory: {Path.cwd()}\")\n",
    "\n",
    "csvpath = Path(\"budget_data.csv\")\n",
    "                \n",
    "with open(csvpath, 'r') as csvfile:\n",
    "                csvreader = csv.reader(csvfile, delimiter=',')\n",
    "                \n",
    "#imported and confirmed file (csv), \n",
    "#stored file in the same file as the jupyter notebook code, for easier location etc\n",
    "\n",
    "print(type(csvreader))\n",
    "print(type(csvfile))\n"
   ]
  },
  {
   "cell_type": "code",
   "execution_count": null,
   "id": "7e6093a6-67ac-4339-b201-096718e90ec7",
   "metadata": {},
   "outputs": [],
   "source": [
    "for line in csvfile:\n",
    "    number = str(line[])"
   ]
  },
  {
   "cell_type": "code",
   "execution_count": null,
   "id": "0235250b-76a7-45ba-b0c8-b3ccff319f9a",
   "metadata": {},
   "outputs": [],
   "source": [
    "print(number)"
   ]
  },
  {
   "cell_type": "code",
   "execution_count": null,
   "id": "81eb18a8-ae0b-4563-afcc-722fa22b090b",
   "metadata": {},
   "outputs": [],
   "source": [
    "print('hi')"
   ]
  },
  {
   "cell_type": "code",
   "execution_count": null,
   "id": "67c989bb-43b3-41d1-be3c-3875fdc25c99",
   "metadata": {},
   "outputs": [],
   "source": [
    "months = 0 \n",
    "profit = 0 \n",
    "loss = 0 \n",
    "ave_pnl = 0\n",
    "increase_profits = 0 \n",
    "decrease_profits = 0 \n",
    "#sort through task and created all variables possibly needed"
   ]
  },
  {
   "cell_type": "code",
   "execution_count": null,
   "id": "eaa724e0-8ee8-4494-ae8c-73ae5dc5edec",
   "metadata": {},
   "outputs": [],
   "source": []
  },
  {
   "cell_type": "code",
   "execution_count": null,
   "id": "545d3208-0f94-4c8d-82eb-f3c06c5ddf07",
   "metadata": {},
   "outputs": [],
   "source": []
  },
  {
   "cell_type": "code",
   "execution_count": null,
   "id": "f36f88c2-5751-4d64-b959-7a8e73be8d2b",
   "metadata": {},
   "outputs": [],
   "source": []
  },
  {
   "cell_type": "code",
   "execution_count": null,
   "id": "f298257c-a4d7-462e-8c9b-2a9614feabc5",
   "metadata": {},
   "outputs": [],
   "source": []
  },
  {
   "cell_type": "code",
   "execution_count": null,
   "id": "79f30556-f8e8-46e6-844e-535632813eff",
   "metadata": {},
   "outputs": [],
   "source": []
  }
 ],
 "metadata": {
  "kernelspec": {
   "display_name": "Python 3 (ipykernel)",
   "language": "python",
   "name": "python3"
  },
  "language_info": {
   "codemirror_mode": {
    "name": "ipython",
    "version": 3
   },
   "file_extension": ".py",
   "mimetype": "text/x-python",
   "name": "python",
   "nbconvert_exporter": "python",
   "pygments_lexer": "ipython3",
   "version": "3.7.11"
  }
 },
 "nbformat": 4,
 "nbformat_minor": 5
}
